{
  "nbformat": 4,
  "nbformat_minor": 0,
  "metadata": {
    "colab": {
      "provenance": [],
      "include_colab_link": true
    },
    "kernelspec": {
      "name": "python3",
      "display_name": "Python 3"
    },
    "language_info": {
      "name": "python"
    }
  },
  "cells": [
    {
      "cell_type": "markdown",
      "metadata": {
        "id": "view-in-github",
        "colab_type": "text"
      },
      "source": [
        "<a href=\"https://colab.research.google.com/github/unknowchar/NN-imgClasification/blob/main/NN_imgClasification%2014052023.ipynb\" target=\"_parent\"><img src=\"https://colab.research.google.com/assets/colab-badge.svg\" alt=\"Open In Colab\"/></a>"
      ]
    },
    {
      "cell_type": "markdown",
      "source": [
        "#INTRODUCCIÓN\n",
        "\n",
        "\n",
        "---\n",
        "\n",
        "\n",
        ">## Dataset: MNIST\n",
        ">El set de datos elegido para este proyecto fue el data set de MNIST. Este dataset surgió alrededor de 1999 siendo un ejemplo básico y bueno para aquellos que deseen experimentar con las redes Neuronales y la computación visual, siendo un dataSet relativamente sencillo y común de entrenar entre los miles de datasets que existen en la actualidad.\n",
        ">### Características\n",
        "> * Está compuesto por 70,000 imágenes, de las cuales 60,000 de ellas son regularmente usadas para entrenar a la red neuronal y las otras 10,000 son usadas para realizar las pruebas de entrenamiento. \n",
        ">*Estás imágenes tienen un alto y ancho de 28px, cada una de ellas contiene un número del 0 al 9, siendo claramente 10 categorías para la salida de datos de está red. \n",
        ">* Todas estás imágenes están en una escala de grises.\n",
        "\n",
        "\n",
        "---\n",
        "\n",
        "\n",
        ">## Arquitectura de red neuronal: Convolucional\n",
        ">>## Conceptos básicos\n",
        ">>### ¿Qué es la convolución?\n",
        "La convolución consiste en realizar un barrido de la imagen para tomar grupos de píxeles cercanos entre sí de la imagen de entrada y realizar un producto punto contra un kernel.\n",
        "\n",
        ">>### Kernel\n",
        "El kernel es un filtro, el cual, se le aplica a la imagen a procesar para así extraer características especiales de la imagen para después hacer uso de estos nuevos valores filtrados. Principalmete se detectan bordes, desenfoque, entre otras características. <br> \n",
        "\n",
        ">>### Pooling\n",
        "El pooling es similar al kernel, solo que en cada iteración se obtiene o el máximo o promedio de la región que se está procesando.\n",
        "\n",
        ">### Red Neuronal Convolucional\n",
        ">### Estructura\n",
        "Las redes neuronales convolucionales suelen ser una arquitectura muy convencional para el procesamiento y clasificación de imágenes. Existen muchos modelos de redes neuronales convolucionales, pero al trabajar en los datos de MNIST hablaremos del modelo de RNC llamado LeNet. Este modelo está compuesto de dos partes, uno en donde hace recepción de los datos (su capa de entrada) mediante 2 capas convolucionales que incluyen su respectivo sistema de pooling.\n",
        "Las capas convolucionales se dedican a extraer características de las imágenes y de obetener una representación compacta y con base a esta seguir compactandola aun más y de realizar la calsificación de cada imagen.\n",
        "\n",
        "\n",
        "\n",
        "---\n",
        "\n",
        "\n",
        "\n",
        ">## Modelo Lenet\n",
        "El modelo Lenet utiliza la arquitectura de una red neuronal convolucional, disminuyendo su alto y su ancho pero al mismo tiempo de que este ocurre su profundidad aumenta progresivamente. \n",
        "<img src=\"https://www.codificandobits.com/img/posts/2019-04-26/red-lenet.png\">\n",
        "\n",
        "///ACTUALIZACIÓN\n",
        "///Ivo Alberto Ramírez Gaeta\n",
        "///14/05/2023\n",
        "///2:25 a.m\n",
        "\n",
        "\n"
      ],
      "metadata": {
        "id": "3J3h5YM1WG0t"
      }
    },
    {
      "cell_type": "code",
      "execution_count": null,
      "metadata": {
        "id": "p8i8xev_50G4"
      },
      "outputs": [],
      "source": [
        "import tensorflow as ts\n",
        "from tensorflow import keras\n",
        "\n",
        "import matplotlib.pyplot as plt\n",
        "import numpy as np\n"
      ]
    },
    {
      "cell_type": "markdown",
      "source": [
        "Para el desarrollo de la red Neuronal haremos haremos uso de la librería tensorflow y su componente Keras. Keras en versiones anteriores de Tensorflow era una librería independiente que fue desarrollada para apoyar al desarrollo de las capasde las redes neuronales a manipular en tensor flow."
      ],
      "metadata": {
        "id": "ORdavhvr1TrR"
      }
    },
    {
      "cell_type": "markdown",
      "source": [
        "Para esto crearemos el dataset para el desarrollo de nuestra red neuronal utilizando 4 variables, cada una de ellas con diferentes valores para el almacenamiento de los datos o en este caso imagenes de prueba como las de entrenamiento de red neuronal."
      ],
      "metadata": {
        "id": "aksBT5rX3VnJ"
      }
    },
    {
      "cell_type": "code",
      "source": [
        "\n",
        "#CARGA DE DATASET PARA TRABAJAR SOBRE ÉL \n",
        "(train_X,train_Y),(x_test,y_test) = keras.datasets.mnist.load_data()\n"
      ],
      "metadata": {
        "id": "tO5Bcd0k6bPg",
        "colab": {
          "base_uri": "https://localhost:8080/"
        },
        "outputId": "6fe42fcf-67c3-4659-877b-3e182609d197"
      },
      "execution_count": null,
      "outputs": [
        {
          "output_type": "stream",
          "name": "stdout",
          "text": [
            "Downloading data from https://storage.googleapis.com/tensorflow/tf-keras-datasets/mnist.npz\n",
            "11490434/11490434 [==============================] - 0s 0us/step\n"
          ]
        }
      ]
    },
    {
      "cell_type": "code",
      "source": [
        "for i in range(9):  \n",
        "  plt.subplot(330 + 1 + i)\n",
        "  plt.imshow(x_test[i], cmap=plt.get_cmap('gray'))\n",
        "  plt.show()"
      ],
      "metadata": {
        "id": "Um51BKqJ7Ud4",
        "colab": {
          "base_uri": "https://localhost:8080/",
          "height": 1000
        },
        "outputId": "e314cb10-9341-4680-dcf6-cfd61df136f9"
      },
      "execution_count": null,
      "outputs": [
        {
          "output_type": "display_data",
          "data": {
            "text/plain": [
              "<Figure size 640x480 with 1 Axes>"
            ],
            "image/png": "[encoded data removed]"
          },
          "metadata": {}
        },
        {
          "output_type": "display_data",
          "data": {
            "text/plain": [
              "<Figure size 640x480 with 1 Axes>"
            ],
            "image/png": "[encoded data removed]"
          },
          "metadata": {}
        },
        {
          "output_type": "display_data",
          "data": {
            "text/plain": [
              "<Figure size 640x480 with 1 Axes>"
            ],
            "image/png": "[encoded data removed]"
          },
          "metadata": {}
        },
        {
          "output_type": "display_data",
          "data": {
            "text/plain": [
              "<Figure size 640x480 with 1 Axes>"
            ],
            "image/png": "[encoded data removed]"
          },
          "metadata": {}
        },
        {
          "output_type": "display_data",
          "data": {
            "text/plain": [
              "<Figure size 640x480 with 1 Axes>"
            ],
            "image/png": "[encoded data removed]"
          },
          "metadata": {}
        },
        {
          "output_type": "display_data",
          "data": {
            "text/plain": [
              "<Figure size 640x480 with 1 Axes>"
            ],
            "image/png": "[encoded data removed]"
          },
          "metadata": {}
        },
        {
          "output_type": "display_data",
          "data": {
            "text/plain": [
              "<Figure size 640x480 with 1 Axes>"
            ],
            "image/png": "[encoded data removed]"
          },
          "metadata": {}
        },
        {
          "output_type": "display_data",
          "data": {
            "text/plain": [
              "<Figure size 640x480 with 1 Axes>"
            ],
            "image/png": "[encoded data removed]"
          },
          "metadata": {}
        },
        {
          "output_type": "display_data",
          "data": {
            "text/plain": [
              "<Figure size 640x480 with 1 Axes>"
            ],
            "image/png": "[encoded data removed]"
          },
          "metadata": {}
        }
      ]
    },
    {
      "cell_type": "code",
      "source": [],
      "metadata": {
        "id": "gisbZEobvciZ"
      },
      "execution_count": null,
      "outputs": []
    }
  ]
}